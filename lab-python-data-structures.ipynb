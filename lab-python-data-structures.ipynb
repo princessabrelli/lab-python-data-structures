{
 "cells": [
  {
   "cell_type": "markdown",
   "metadata": {
    "tags": []
   },
   "source": [
    "# Lab | Data Structures "
   ]
  },
  {
   "cell_type": "markdown",
   "metadata": {},
   "source": [
    "## Exercise: Managing Customer Orders\n",
    "\n",
    "As part of a business venture, you are starting an online store that sells various products. To ensure smooth operations, you need to develop a program that manages customer orders and inventory.\n",
    "\n",
    "Follow the steps below to complete the exercise:\n",
    "\n",
    "1. Define a list called `products` that contains the following items: \"t-shirt\", \"mug\", \"hat\", \"book\", \"keychain\".\n",
    "Lst\n",
    "\n",
    "2. Create an empty dictionary called `inventory`.\n",
    "\n",
    "3. Ask the user to input the quantity of each product available in the inventory. Use the product names from the `products` list as keys in the `inventory` dictionary and assign the respective quantities as values.\n",
    "\n",
    "4. Create an empty set called `customer_orders`.\n",
    "\n",
    "5. Ask the user to input the name of three products that a customer wants to order (from those in the products list, meaning three products out of \"t-shirt\", \"mug\", \"hat\", \"book\" or \"keychain\". Add each product name to the `customer_orders` set.\n",
    "\n",
    "6. Print the products in the `customer_orders` set.\n",
    "\n",
    "7. Calculate the following order statistics:\n",
    "   - Total Products Ordered: The total number of products in the `customer_orders` set.\n",
    "   - Percentage of Products Ordered: The percentage of products ordered compared to the total available products.\n",
    "   \n",
    "   Store these statistics in a tuple called `order_status`.\n",
    "\n",
    "8. Print the order statistics using the following format:\n",
    "   ```\n",
    "   Order Statistics:\n",
    "   Total Products Ordered: <total_products_ordered>\n",
    "   Percentage of Products Ordered: <percentage_ordered>% \n",
    "   ```\n",
    "\n",
    "9. Update the inventory by subtracting 1 from the quantity of each product. Modify the `inventory` dictionary accordingly.\n",
    "\n",
    "10. Print the updated inventory, displaying the quantity of each product on separate lines.\n",
    "\n",
    "Solve the exercise by implementing the steps using the Python concepts of lists, dictionaries, sets, and basic input/output operations. "
   ]
  },
  {
   "cell_type": "code",
   "execution_count": 3,
   "metadata": {},
   "outputs": [
    {
     "name": "stdout",
     "output_type": "stream",
     "text": [
      "Enter the quantitiy of t-shirt: 12\n",
      "Enter the quantitiy of mug: 3\n",
      "Enter the quantitiy of hat: 4\n",
      "Enter the quantitiy of book: 5\n",
      "Enter the quantitiy of keychain: 6\n",
      "inventory:\n",
      "t-shirt: 12\n",
      "mug: 3\n",
      "hat: 4\n",
      "book: 5\n",
      "keychain: 6\n"
     ]
    }
   ],
   "source": [
    "product_list = [\"t-shirt\",\"mug\",\"hat\",\"book\",\"keychain\"] # create product list\n",
    "inventory= {} #create empty dictionary\n",
    "\n",
    "#ask user to input the quantity of the product\n",
    "for product in product_list:\n",
    "    quantity= input(f\"Enter the quantitiy of {product}: \")\n",
    "    #convert quantity to integer\n",
    "    inventory[product] = int(quantity)\n",
    "\n",
    "#Display inventory\n",
    "\n",
    "print(\"inventory:\")\n",
    "for product, quantity in inventory.items():\n",
    "    print(f\"{product}: {quantity}\")\n",
    "\n",
    "    \n",
    "    "
   ]
  },
  {
   "cell_type": "code",
   "execution_count": 5,
   "metadata": {},
   "outputs": [
    {
     "name": "stdout",
     "output_type": "stream",
     "text": [
      "Enter product (choose from t-shirt, mug, hat, book, keychain): 3\n",
      "Invalid product\n",
      "Enter product (choose from t-shirt, mug, hat, book, keychain): mug\n",
      "Enter product (choose from t-shirt, mug, hat, book, keychain): hat\n",
      "Enter product (choose from t-shirt, mug, hat, book, keychain): book\n",
      "Customer Orders:\n",
      "mug\n",
      "hat\n",
      "book\n"
     ]
    }
   ],
   "source": [
    "#Create an empty set \n",
    "customer_orders = set()\n",
    "\n",
    "# Ask user to input three products\n",
    "for _ in range(3):\n",
    "    while True:\n",
    "        product = input(f\"Enter product (choose from {', '.join(product_list)}): \")\n",
    "        if product in product_list:\n",
    "            break\n",
    "        else:\n",
    "            print(\"Invalid product\")\n",
    "\n",
    "    customer_orders.add(product)\n",
    "\n",
    "# Display the customer orders\n",
    "print(\"Customer Orders:\")\n",
    "for order in customer_orders:\n",
    "    print(order)"
   ]
  },
  {
   "cell_type": "code",
   "execution_count": 7,
   "metadata": {},
   "outputs": [
    {
     "name": "stdout",
     "output_type": "stream",
     "text": [
      "\n",
      "Order Statistics:\n",
      "Total Products Ordered: 3\n",
      "Percentage of Products Ordered: 60.00%\n",
      "\n",
      "Updated Inventory:\n",
      "t-shirt: 12\n",
      "mug: 2\n",
      "hat: 3\n",
      "book: 4\n",
      "keychain: 6\n"
     ]
    }
   ],
   "source": [
    "# Calculate the total number of products ordered\n",
    "total_products_ordered = len(customer_orders)\n",
    "\n",
    "# Calculate the percentage of products ordered compared to the total available products\n",
    "percentage_ordered = (total_products_ordered / len(product_list)) * 100\n",
    "\n",
    "# Store the order statistics in a tuple\n",
    "order_status = (total_products_ordered, percentage_ordered)\n",
    "\n",
    "# Print the order statistics\n",
    "print(\"\\nOrder Statistics:\")\n",
    "print(f\"Total Products Ordered: {order_status[0]}\")\n",
    "print(f\"Percentage of Products Ordered: {order_status[1]:.2f}%\")\n",
    "\n",
    "# Update the inventory by subtracting 1 from the quantity of each product\n",
    "for product in customer_orders:\n",
    "    inventory[product] -= 1\n",
    "\n",
    "# Print the updated inventory\n",
    "print(\"\\nUpdated Inventory:\")\n",
    "for product, quantity in inventory.items():\n",
    "    print(f\"{product}: {quantity}\")"
   ]
  },
  {
   "cell_type": "code",
   "execution_count": null,
   "metadata": {},
   "outputs": [],
   "source": []
  }
 ],
 "metadata": {
  "kernelspec": {
   "display_name": "Python 3 (ipykernel)",
   "language": "python",
   "name": "python3"
  },
  "language_info": {
   "codemirror_mode": {
    "name": "ipython",
    "version": 3
   },
   "file_extension": ".py",
   "mimetype": "text/x-python",
   "name": "python",
   "nbconvert_exporter": "python",
   "pygments_lexer": "ipython3",
   "version": "3.11.7"
  }
 },
 "nbformat": 4,
 "nbformat_minor": 4
}
